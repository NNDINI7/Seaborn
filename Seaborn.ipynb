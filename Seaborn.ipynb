{
  "nbformat": 4,
  "nbformat_minor": 0,
  "metadata": {
    "colab": {
      "provenance": []
    },
    "kernelspec": {
      "name": "python3",
      "display_name": "Python 3"
    },
    "language_info": {
      "name": "python"
    }
  },
  "cells": [
    {
      "cell_type": "code",
      "execution_count": null,
      "metadata": {
        "id": "ulRHv8i2hVjU"
      },
      "outputs": [],
      "source": [
        "import seaborn as sns\n",
        "import matplotlib.pyplot as plt\n",
        "import numpy as np\n",
        "import pandas as pd\n",
        "\n",
        "# Set seaborn theme\n",
        "sns.set_theme(style=\"darkgrid\")\n"
      ]
    },
    {
      "cell_type": "code",
      "source": [
        "# Load built-in \"tips\" dataset for demonstration\n",
        "tips = sns.load_dataset(\"tips\")\n",
        "print(tips.head())\n"
      ],
      "metadata": {
        "id": "j4zn_DtUhjO3"
      },
      "execution_count": null,
      "outputs": []
    },
    {
      "cell_type": "code",
      "source": [
        "sns.scatterplot(data=tips, x=\"total_bill\", y=\"tip\", hue=\"smoker\")\n",
        "plt.title(\"Tip vs Total Bill by Smoker Status\")\n",
        "plt.show()"
      ],
      "metadata": {
        "id": "ss0wDHX6hlLj"
      },
      "execution_count": null,
      "outputs": []
    },
    {
      "cell_type": "code",
      "source": [
        "sns.barplot(data=tips, x=\"day\", y=\"tip\", ci=\"sd\", palette=\"muted\")\n",
        "plt.title(\"Average Tip by Day\")\n",
        "plt.show()"
      ],
      "metadata": {
        "id": "oloTBI8Jhm8P"
      },
      "execution_count": null,
      "outputs": []
    },
    {
      "cell_type": "code",
      "source": [
        "sns.boxplot(data=tips, x=\"day\", y=\"tip\", hue=\"sex\")\n",
        "plt.title(\"Boxplot of Tips by Day and Gender\")\n",
        "plt.show()\n"
      ],
      "metadata": {
        "id": "yL3lkcV1howY"
      },
      "execution_count": null,
      "outputs": []
    },
    {
      "cell_type": "code",
      "source": [
        "sns.violinplot(data=tips, x=\"day\", y=\"tip\", hue=\"sex\", split=True)\n",
        "plt.title(\"Violin Plot of Tips by Day and Gender\")\n",
        "plt.show()\n"
      ],
      "metadata": {
        "id": "-fpZbua6hsxT"
      },
      "execution_count": null,
      "outputs": []
    },
    {
      "cell_type": "code",
      "source": [
        "corr = tips.corr(numeric_only=True)\n",
        "sns.heatmap(corr, annot=True, cmap=\"coolwarm\")\n",
        "plt.title(\"Correlation Heatmap\")\n",
        "plt.show()"
      ],
      "metadata": {
        "id": "YiAjN7gQhymY"
      },
      "execution_count": null,
      "outputs": []
    },
    {
      "cell_type": "code",
      "source": [
        "sns.pairplot(tips, hue=\"sex\")\n",
        "plt.suptitle(\"Pairplot of Tips Dataset\", y=1.02)\n",
        "plt.show()\n"
      ],
      "metadata": {
        "id": "rZvqfSBZh4vv"
      },
      "execution_count": null,
      "outputs": []
    },
    {
      "cell_type": "code",
      "source": [
        "sns.countplot(data=tips, x=\"day\", hue=\"sex\")\n",
        "plt.title(\"Count of Customers per Day by Gender\")\n",
        "plt.show()"
      ],
      "metadata": {
        "id": "1tPIJqglh65e"
      },
      "execution_count": null,
      "outputs": []
    },
    {
      "cell_type": "code",
      "source": [
        "data = pd.DataFrame({\n",
        "    \"city\": [\"CityA\", \"CityB\", \"CityC\", \"CityD\"],\n",
        "    \"latitude\": [28.6, 19.1, 13.0, 22.6],\n",
        "    \"longitude\": [77.2, 72.8, 80.2, 88.3],\n",
        "    \"sales\": [150, 200, 130, 170]\n",
        "})\n",
        "\n",
        "plt.figure(figsize=(8, 5))\n",
        "sns.scatterplot(data=data, x=\"longitude\", y=\"latitude\", size=\"sales\", hue=\"city\", legend=\"full\", sizes=(50, 300))\n",
        "plt.title(\"Geographic Sales Distribution (Simulated)\")\n",
        "plt.xlabel(\"Longitude\")\n",
        "plt.ylabel(\"Latitude\")\n",
        "plt.grid(True)\n",
        "plt.show()"
      ],
      "metadata": {
        "id": "cDbzbwOPh8yh"
      },
      "execution_count": null,
      "outputs": []
    },
    {
      "cell_type": "code",
      "source": [
        "sns.histplot(data=tips, x=\"total_bill\", kde=True)\n",
        "plt.title(\"Distribution of Total Bill\")\n",
        "plt.show()"
      ],
      "metadata": {
        "id": "QcNmJm5nh-ba"
      },
      "execution_count": null,
      "outputs": []
    },
    {
      "cell_type": "code",
      "source": [
        "sns.stripplot(data=tips, x=\"day\", y=\"tip\", jitter=True, hue=\"sex\")\n",
        "plt.title(\"Strip Plot of Tips by Day and Gender\")\n",
        "plt.legend(loc='best')\n",
        "plt.show()"
      ],
      "metadata": {
        "id": "gTKJDBsRiAZa"
      },
      "execution_count": null,
      "outputs": []
    },
    {
      "cell_type": "code",
      "source": [
        "sns.swarmplot(data=tips, x=\"day\", y=\"total_bill\", hue=\"sex\")\n",
        "plt.title(\"Swarm Plot of Total Bill by Day and Gender\")\n",
        "plt.show()"
      ],
      "metadata": {
        "id": "Vki2EwcGiCBz"
      },
      "execution_count": null,
      "outputs": []
    },
    {
      "cell_type": "code",
      "source": [
        "# Group data for daily average tip\n",
        "avg_tips = tips.groupby(\"day\")[\"tip\"].mean().reset_index()\n",
        "sns.lineplot(data=avg_tips, x=\"day\", y=\"tip\")\n",
        "plt.title(\"Line Plot of Average Tips by Day\")\n",
        "plt.show()"
      ],
      "metadata": {
        "id": "Z-ZlavRZiECp"
      },
      "execution_count": null,
      "outputs": []
    },
    {
      "cell_type": "code",
      "source": [
        "from wordcloud import WordCloud\n",
        "from collections import Counter\n",
        "review_texts = [\n",
        "    \"Great food and great service\",\n",
        "    \"Food was amazing, especially the dessert\",\n",
        "    \"Service was slow but food was good\",\n",
        "    \"The ambiance was perfect\",\n",
        "    \"Not happy with service but liked the food\",\n",
        "    \"Dessert and coffee were excellent\"\n",
        "]\n",
        "\n",
        "# Combine all reviews into one string\n",
        "all_words = \" \".join(review_texts).lower().split()\n",
        "word_counts = Counter(all_words)\n",
        "\n",
        "# Create a DataFrame from the word counts\n",
        "word_freq_df = pd.DataFrame(word_counts.items(), columns=['word', 'frequency'])"
      ],
      "metadata": {
        "id": "WUs-bHLHiJBC"
      },
      "execution_count": null,
      "outputs": []
    },
    {
      "cell_type": "code",
      "source": [
        "# Bar plot of most common words\n",
        "plt.figure(figsize=(10, 5))\n",
        "sns.barplot(data=word_freq_df.sort_values(by=\"frequency\", ascending=False), x=\"word\", y=\"frequency\", palette=\"viridis\")\n",
        "plt.title(\"Word Frequency in Customer Reviews\")\n",
        "plt.xticks(rotation=45)\n",
        "plt.show()"
      ],
      "metadata": {
        "id": "ydCBiZhWiNu0"
      },
      "execution_count": null,
      "outputs": []
    },
    {
      "cell_type": "code",
      "source": [
        "# Create and display a word cloud\n",
        "wordcloud = WordCloud(width=800, height=400, background_color='white').generate(\" \".join(all_words))\n",
        "\n",
        "plt.figure(figsize=(10, 5))\n",
        "plt.imshow(wordcloud, interpolation='bilinear')\n",
        "plt.axis(\"off\")\n",
        "plt.title(\"Word Cloud of Customer Feedback\")\n",
        "plt.show()\n"
      ],
      "metadata": {
        "id": "92CTdPHkiPfW"
      },
      "execution_count": null,
      "outputs": []
    }
  ]
}